{
 "cells": [
  {
   "cell_type": "code",
   "execution_count": 5,
   "metadata": {},
   "outputs": [],
   "source": [
    "import docx\n",
    "import nltk\n",
    "import math\n",
    "def wordtokenizer(filename):\n",
    "    a=[]\n",
    "    document = docx.Document(filename)\n",
    "    for paragraph in document.paragraphs:\n",
    "        a.append(paragraph.text)\n",
    "    wordstring = ' '.join(a).replace(',','').replace(')','').replace('.','').replace('(','').replace('-','').replace('|','').replace('&','')\n",
    "    wordstring = wordstring.lower()\n",
    "    tokens = nltk.word_tokenize(wordstring)\n",
    "    b = ' '.join(tokens)\n",
    "    return b,tokens\n",
    "text = wordtokenizer(' _________________DOCX FILE______________')[0]\n",
    "text1 = wordtokenizer('_________________DOCX FILE_______________')[0]\n",
    "text2 = wordtokenizer('________________________________________.docx')[0]\n",
    "text2 = wordtokenizer('________________________________________.docx')[0]\n",
    "#tokens = wordtokenizer('/Users/vicyan/Desktop/VictorYanData checked.docx')[1]\n",
    "#tokens1 = wordtokenizer('/Users/vicyan/Desktop/VictorYanProfile.docx')[1]\n",
    "#tokens2 = wordtokenizer('/Users/vicyan/Desktop/Victor power distribution.docx')[1]\n",
    "\n",
    "\n",
    "document = [text,text1,text2]"
   ]
  },
  {
   "cell_type": "markdown",
   "metadata": {},
   "source": [
    "## SKLEARN TfidfVectorizer"
   ]
  },
  {
   "cell_type": "code",
   "execution_count": 6,
   "metadata": {
    "collapsed": true
   },
   "outputs": [],
   "source": [
    "tokenize = lambda doc: doc.lower().split(\" \")\n",
    "from sklearn.feature_extraction.text import TfidfVectorizer\n",
    "\n",
    "sklearn_tfidf = TfidfVectorizer(norm='l2',min_df=0, use_idf=True, smooth_idf=False, sublinear_tf=True, tokenizer=tokenize)\n",
    "\n",
    "sklearn_representation = sklearn_tfidf.fit_transform(document)\n",
    "#print (tfidf_representation[0])\n",
    "#print (sklearn_representation.toarray()[0].tolist())\n",
    "#print(text)"
   ]
  },
  {
   "cell_type": "code",
   "execution_count": 7,
   "metadata": {},
   "outputs": [
    {
     "name": "stdout",
     "output_type": "stream",
     "text": [
      "(0.33799810708542194, 0, 1)\n",
      "(0.096772709977405891, 0, 2)\n"
     ]
    }
   ],
   "source": [
    "tokenize = lambda doc: doc.lower().split(\" \")\n",
    "from sklearn.feature_extraction.text import TfidfVectorizer\n",
    "\n",
    "sklearn_tfidf = TfidfVectorizer(norm='l2',min_df=0, use_idf=True, smooth_idf=False, sublinear_tf=True, tokenizer=tokenize)\n",
    "\n",
    "sklearn_representation = sklearn_tfidf.fit_transform(document)\n",
    "#print (tfidf_representation[0])\n",
    "#print (sklearn_representation.toarray()[0].tolist())\n",
    "#print(text)\n",
    "\n",
    "def cosine_similarity(vector1, vector2):\n",
    "    dot_product = sum(p*q for p,q in zip(vector1, vector2))\n",
    "    magnitude = math.sqrt(sum([val**2 for val in vector1])) * math.sqrt(sum([val**2 for val in vector2]))\n",
    "    if not magnitude:\n",
    "        return 0\n",
    "    return dot_product/magnitude\n",
    "skl_tfidf_comparisons = []\n",
    "for count_0, doc_0 in enumerate(sklearn_representation.toarray()):\n",
    "    for count_1, doc_1 in enumerate(sklearn_representation.toarray()):\n",
    "        skl_tfidf_comparisons.append((cosine_similarity(doc_0, doc_1), count_0, count_1))\n",
    "        \n",
    "#similarity check\n",
    "for i in skl_tfidf_comparisons:\n",
    "    if i[1] != i[2] and i[1] == 0:\n",
    "        print (i)\n",
    "# similarity, document_num, document_num\n"
   ]
  },
  {
   "cell_type": "markdown",
   "metadata": {},
   "source": [
    "## TF-IDF similarity"
   ]
  },
  {
   "cell_type": "code",
   "execution_count": 112,
   "metadata": {},
   "outputs": [
    {
     "name": "stdout",
     "output_type": "stream",
     "text": [
      "(0.43405807708218613, 0, 1)\n",
      "(0.10361403885708456, 0, 2)\n",
      "(0.10255804121720305, 0, 3)\n"
     ]
    }
   ],
   "source": [
    "for i in skl_tfidf_comparisons:\n",
    "    if i[1] != i[2] and i[1] == 0:\n",
    "        print (i)\n",
    "# similarity, document_num, document_num"
   ]
  },
  {
   "cell_type": "code",
   "execution_count": null,
   "metadata": {
    "collapsed": true
   },
   "outputs": [],
   "source": []
  },
  {
   "cell_type": "code",
   "execution_count": null,
   "metadata": {
    "collapsed": true
   },
   "outputs": [],
   "source": []
  }
 ],
 "metadata": {
  "kernelspec": {
   "display_name": "Python 3",
   "language": "python",
   "name": "python3"
  },
  "language_info": {
   "codemirror_mode": {
    "name": "ipython",
    "version": 3
   },
   "file_extension": ".py",
   "mimetype": "text/x-python",
   "name": "python",
   "nbconvert_exporter": "python",
   "pygments_lexer": "ipython3",
   "version": "3.6.1"
  }
 },
 "nbformat": 4,
 "nbformat_minor": 2
}
