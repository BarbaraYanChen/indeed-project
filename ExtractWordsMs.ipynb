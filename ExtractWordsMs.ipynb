{
 "cells": [
  {
   "cell_type": "code",
   "execution_count": 2,
   "metadata": {
    "collapsed": false
   },
   "outputs": [
    {
     "name": "stdout",
     "output_type": "stream",
     "text": [
      "Requirement already satisfied: python-docx in c:\\users\\veronika\\anaconda3\\lib\\site-packages\n",
      "Requirement already satisfied: lxml>=2.3.2 in c:\\users\\veronika\\anaconda3\\lib\\site-packages (from python-docx)\n"
     ]
    }
   ],
   "source": [
    "!pip install python-docx\n",
    "#!pip install --pre python-docx"
   ]
  },
  {
   "cell_type": "code",
   "execution_count": 7,
   "metadata": {
    "collapsed": false
   },
   "outputs": [],
   "source": [
    "import docx\n",
    "import re\n",
    "\n",
    "def getwordsOutofMS(filename):\n",
    "    document = docx.Document(filename)\n",
    "    docText = b'\\n\\n'.join([\n",
    "    paragraph.text.encode('utf-8') for paragraph in document.paragraphs\n",
    "    ])   \n",
    "    docText = re.sub(b\"[^a-zA-Z.+3]\",b\" \", docText).decode(\"utf-8\") \n",
    "    docText = docText.lower().split()  # Go to lower case and split them apart\n",
    "    docText = list(set(docText)) \n",
    "    print ((docText))\n"
   ]
  },
  {
   "cell_type": "code",
   "execution_count": 8,
   "metadata": {
    "collapsed": false
   },
   "outputs": [
    {
     "name": "stdout",
     "output_type": "stream",
     "text": [
      "['on', 'analyze', 'indeed', 'mining', 'obtained', 'script', 'goal', 'data', 'the', 'results', 'a', 'indeed.com.', 'cloud', 'first', 'provided', 'run', 'for', 'based', 'is', 'at', 'objectives', 'shaohua', 'trends', 'of', 'to', 'team', 'intended', 'web', 'i.e.', 'scraping', 'salary', 'project', 'website', 'be', 'this', 'info', 'audience', 'we', 'by', 'big', 'purpose', 'tbd', 'b', 'indeed.com', 'proj', 'will', 'bigdata', 'prediction', 'scientist', 'from']\n"
     ]
    }
   ],
   "source": [
    "getwordsOutofMS('Indeed Big Data Project.docx')"
   ]
  },
  {
   "cell_type": "code",
   "execution_count": null,
   "metadata": {
    "collapsed": true
   },
   "outputs": [],
   "source": []
  }
 ],
 "metadata": {
  "kernelspec": {
   "display_name": "Python 3",
   "language": "python",
   "name": "python3"
  },
  "language_info": {
   "codemirror_mode": {
    "name": "ipython",
    "version": 3
   },
   "file_extension": ".py",
   "mimetype": "text/x-python",
   "name": "python",
   "nbconvert_exporter": "python",
   "pygments_lexer": "ipython3",
   "version": "3.6.0"
  }
 },
 "nbformat": 4,
 "nbformat_minor": 2
}
