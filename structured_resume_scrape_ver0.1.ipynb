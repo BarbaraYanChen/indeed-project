{
 "cells": [
  {
   "cell_type": "code",
   "execution_count": 2,
   "metadata": {
    "collapsed": true
   },
   "outputs": [],
   "source": [
    "login_url = 'https://secure.indeed.com/account/login'"
   ]
  },
  {
   "cell_type": "code",
   "execution_count": 3,
   "metadata": {
    "collapsed": true
   },
   "outputs": [],
   "source": [
    "data = {\n",
    "        'action':'login',\n",
    "        '__email':'vicyan614@gmail.com',\n",
    "        '__password':'yhc900614',\n",
    "        'remember':'1',\n",
    "        'hl':'en',\n",
    "        'continue':'/account/view?hl=en',\n",
    "       }"
   ]
  },
  {
   "cell_type": "code",
   "execution_count": 4,
   "metadata": {
    "collapsed": true
   },
   "outputs": [],
   "source": [
    "header = {'User_Agent':'Mozilla/5.0 (Macintosh; Intel Mac OS X 10_12_6) AppleWebKit/537.36 (KHTML, like Gecko) Chrome/60.0.3112.90 Safari/537.36'}"
   ]
  },
  {
   "cell_type": "code",
   "execution_count": 5,
   "metadata": {
    "collapsed": true
   },
   "outputs": [],
   "source": [
    "def periodfinder(content,class_info):\n",
    "    if content.find('p',class_=class_info) is not None:\n",
    "            period = i.find('p',class_=class_info).text.split(' to ')\n",
    "            #print (period)   # AA BB 1, AA PRESENT 2 A PRESENT 3 A BB 4 AA B 5\n",
    "            if len(period) == 2:\n",
    "                if period[1] == 'Present':\n",
    "                    try:\n",
    "                        period[1] = datetime.today().strftime('%B %Y')\n",
    "                    except:\n",
    "                        period[1] = datetime.today().strftime('%b %Y')\n",
    "                if len(period[0]) > 4 and len(period[1]) > 4:\n",
    "                    #type AA BB\n",
    "                    try:\n",
    "                        prd = (datetime.strptime(period[1],'%B %Y').date()-\\\n",
    "                        datetime.strptime(period[0],'%B %Y').date())\n",
    "                    except:\n",
    "                        prd = (datetime.strptime(period[1],'%b %Y').date()-\\\n",
    "                        datetime.strptime(period[0],'%b %Y').date())\n",
    "                    \n",
    "                    YOE = int(abs(round(prd.days/365,0)))\n",
    "                elif len(period[0]) > 4 and len(period[1]) < 5:\n",
    "                    #type AA B\n",
    "                    YOE = int(period[1])-int(period[0].split()[1])\n",
    "                elif len(period[0]) < 5 and len(period[1]) > 4:\n",
    "                    #type A BB\n",
    "                    YOE = int(period[1].split()[1])-int(period[0])\n",
    "                elif len(period[0]) < 5 and len(period[1]) < 5:\n",
    "                    #type A B\n",
    "                    YOE = int(period[1])-int(period[0])\n",
    "            else:\n",
    "                YOE = 1\n",
    "            if YOE < 1:\n",
    "                YOE = 'less than 1 year'\n",
    "    else:\n",
    "        YOE = 'No lenth info'\n",
    "    return YOE"
   ]
  },
  {
   "cell_type": "code",
   "execution_count": 8,
   "metadata": {},
   "outputs": [
    {
     "name": "stdout",
     "output_type": "stream",
     "text": [
      "Jasmeet Singh\n",
      "security mobile offiicer \n",
      " G4S Toronto, ON \n",
      "  \n",
      " 2 year\n",
      "Quality Inspector \n",
      " Martinrea Alfield Toronto, ON \n",
      " with TRIGO, The Pic Group) Co-op • Collect and Record accurate data regarding defects • Tag and isolate defective and good material • Provide description and justification of defective material • Perform visual, mechanical and functional verification of parts to ensure compliance to set specific and quality standard • Checking the parts on the fixture \n",
      " less than 1 year year\n",
      "Graduate Engineer Trainee \n",
      " International Tractors Limited Toronto, ON \n",
      " • Performed process audit on pre-paint and post-paint tractor assembly line by visual inspection • Ensured adherence of process audit on differential assembly, gear box assembly and hydraulic assembly by visual method and using various equipment like Vernier caliper, micrometer and height gauge • Performed torque audit on the complete tractor assembly line by using torque wrench • Performed product audit (gate audit) after final assembly of tractor by visual inspection of entire tractor • Tested brake and noise of tractor by road testing • Conducted pre-delivery inspections in quality rework area in case of faults in tractors \n",
      " 1 year\n",
      "['November 2014', 'June 2015']\n",
      "Post Graduate Diploma in Quality Engineering Management in Communication for Quality Assurance \n",
      " Lambton College of Arts and Technology - Toronto, ON Toronto, ON \n",
      " 2 year\n",
      "['November 2014', 'June 2015']\n",
      "Bachelor in Mechanical Engineering in Mechanical Engineering \n",
      " Punjab Technical University No Education Location Info \n",
      " 1 year\n",
      "ANALYSIS OF VARIANCE (Less than 1 year)\n",
      "micrometer (Less than 1 year)\n",
      "Six Sigma (1 year)\n",
      "SIX-SIGMA (1 year)\n",
      "testing (2 years)\n",
      "Workplace Hazardous Materials Information System\n",
      "Drivers License AMarch 2017 to December 2020\n",
      "Security Guard LicenseSeptember 2015 to November 2018\n",
      "Use of ForceJuly 2017 to Present\n"
     ]
    }
   ],
   "source": [
    "from bs4 import BeautifulSoup\n",
    "import requests\n",
    "from datetime import datetime\n",
    "import re\n",
    "#start session s\n",
    "s = requests.session()\n",
    "#login with login and password\n",
    "r = s.post(login_url,data = data)\n",
    "#get resume page1 \n",
    "rq= s.get('https://www.indeed.com/resumes?q=Jasmeet%20Singh&l=GTA%2C%20ON&from=mrs&subfrom=1_10')\n",
    "url = []\n",
    "soup = ''\n",
    "all_content=[]\n",
    "soup = BeautifulSoup(rq.text,'html.parser')\n",
    "content = soup.find_all('a', class_= 'app_link')\n",
    "#get urls in a page\n",
    "for c in content:\n",
    "    full = 'https://www.indeed.com'+c.attrs['href']\n",
    "    url.append(full)\n",
    "cnt = len(content)\n",
    "#open each url and look for contents\n",
    "for j in range(0,cnt):\n",
    "    r = s.get(url[j],headers=header)\n",
    "    soup = BeautifulSoup(r.text,'html.parser')\n",
    "    #Resume name\n",
    "    name = soup.find('h1').text\n",
    "    print(name)\n",
    "    #experience \n",
    "    experience = soup.find_all('div',class_=re.compile(r'work-experience-section( \\w)*'))\n",
    "    for i in experience:\n",
    "        if i.find('p',class_='work_title title') is None:\n",
    "            jobtitle = 'No Job Title'\n",
    "        else:\n",
    "            jobtitle = i.find('p',class_='work_title title').text\n",
    "        if i.find('div',class_='work_company') is None:\n",
    "            comp_lo = 'No Company'\n",
    "        else:\n",
    "            comp_lo = i.find('div',class_='work_company').text.split(' - ')\n",
    "        if len(comp_lo) == 2:\n",
    "            company,location = i.find('div',class_='work_company').text.split(' - ')\n",
    "        elif len(comp_lo) ==1 :\n",
    "            company = i.find('div',class_='work_company').text\n",
    "        else:\n",
    "            company = 'No Company'\n",
    "        if i.find('p',class_='work_dates') is not None:\n",
    "            YOE = 0\n",
    "            period = i.find('p',class_='work_dates').text.split(' to ')\n",
    "            #print (period)   # AA BB 1, AA PRESENT 2 A PRESENT 3 A BB 4 AA B 5\n",
    "            if len(period) == 2:\n",
    "                if period[1] == 'Present':\n",
    "                    try:\n",
    "                        period[1] = datetime.today().strftime('%B %Y')\n",
    "                    except:\n",
    "                        period[1] = datetime.today().strftime('%b %Y')\n",
    "                if len(period[0]) > 4 and len(period[1]) > 4:\n",
    "                    #type AA BB\n",
    "                    try:\n",
    "                        prd = (datetime.strptime(period[1],'%B %Y').date()-\\\n",
    "                        datetime.strptime(period[0],'%B %Y').date())\n",
    "                    except:\n",
    "                        prd = (datetime.strptime(period[1],'%b %Y').date()-\\\n",
    "                        datetime.strptime(period[0],'%b %Y').date())\n",
    "                    \n",
    "                    YOE = int(abs(round(prd.days/365,0)))\n",
    "                elif len(period[0]) > 4 and len(period[1]) < 5:\n",
    "                    #type AA B\n",
    "                    YOE = int(period[1])-int(period[0].split()[1])\n",
    "                elif len(period[0]) < 5 and len(period[1]) > 4:\n",
    "                    #type A BB\n",
    "                    YOE = int(period[1].split()[1])-int(period[0])\n",
    "                elif len(period[0]) < 5 and len(period[1]) < 5:\n",
    "                    #type A B\n",
    "                    YOE = int(period[1])-int(period[0])\n",
    "            else:\n",
    "                YOE = 1\n",
    "            if YOE < 1:\n",
    "                YOE = 'less than 1 year'\n",
    "        else:\n",
    "            YOE = 'No lenth of work info'\n",
    "        jobdesc = i.find('p',class_='work_description')\n",
    "        if jobdesc is None:\n",
    "            desc = ''\n",
    "        else:\n",
    "            desc = jobdesc.text\n",
    "        print(jobtitle,'\\n',company,location,'\\n',desc,'\\n',YOE,'year')\n",
    "    #break\n",
    "        #education education-section last\n",
    "    educations = soup.find_all('div',class_=re.compile(r'education-section( \\w)*'))\n",
    "    for e in educations:\n",
    "        if e.find('p', class_ = 'edu_title') is None:\n",
    "            edu_title = 'No Education Information'\n",
    "        else:\n",
    "            edu_title = e.find('p', class_ = 'edu_title').text\n",
    "        if e.find('div', class_='edu_school') is None:\n",
    "            edu_school = 'No School Information'\n",
    "        else:\n",
    "            edu_school = e.find('div',class_='edu_school').text\n",
    "        if e.find('div',class_='inline-block') is None:\n",
    "            edu_location = 'No Education Location Info'\n",
    "        else:\n",
    "            edu_location = e.find('div',class_='inline-block').text\n",
    "        if e.find('p',class_='edu_dates') is not None:\n",
    "            YOEdu = 0\n",
    "            edu_period = e.find('p',class_='edu_dates').text.split(' to ')\n",
    "            print (period)   # AA BB 1, AA PRESENT 2 A PRESENT 3 A BB 4 AA B 5\n",
    "            if len(edu_period) == 2:\n",
    "                if edu_period[1] == 'Present':\n",
    "                    try:\n",
    "                        edu_period[1] = datetime.today().strftime('%B %Y')\n",
    "                    except:\n",
    "                        edu_period[1] = datetime.today().strftime('%b %Y')\n",
    "                if len(edu_period[0]) > 4 and len(edu_period[1]) > 4:\n",
    "                    #type AA BB\n",
    "                    try:\n",
    "                        edu_prd = (datetime.strptime(edu_period[1],'%B %Y').date()-\\\n",
    "                        datetime.strptime(edu_period[0],'%B %Y').date())\n",
    "                    except:\n",
    "                        edu_prd = (datetime.strptime(edu_period[1],'%b %Y').date()-\\\n",
    "                        datetime.strptime(period[0],'%b %Y').date())\n",
    "                    \n",
    "                    YOEdu = int(abs(round(edu_prd.days/365,0)))\n",
    "                elif len(edu_period[0]) > 4 and len(edu_period[1]) < 5:\n",
    "                    #type AA B\n",
    "                    YOEdu = int(edu_period[1])-int(edu_period[0].split()[1])\n",
    "                elif len(edu_period[0]) < 5 and len(edu_period[1]) > 4:\n",
    "                    #type A BB\n",
    "                    YOEdu = int(edu_period[1].split()[1])-int(edu_period[0])\n",
    "                elif len(period[0]) < 5 and len(period[1]) < 5:\n",
    "                    #type A B\n",
    "                    YOEdu = int(edu_period[1])-int(edu_period[0])\n",
    "            else:\n",
    "                YOEdu = 1\n",
    "            if YOEdu < 1:\n",
    "                YOEdu = 'less than 1 year'\n",
    "        else:\n",
    "            YOEdu = 'No lenth of Edu info'\n",
    "        print(edu_title,'\\n',edu_school,edu_location,'\\n',YOEdu,'year')\n",
    "        #Skills\n",
    "    skill_set = soup.find_all('span',class_='skill-text')\n",
    "    for skills in skill_set:\n",
    "        skill = skills.text\n",
    "        print(skill)\n",
    "        #Certifications/Licenses\n",
    "    \n",
    "    cert = soup.find_all('div',class_=re.compile(r'certification-section( \\w)*'))\n",
    "    for c in cert:\n",
    "        print (c.text)\n",
    "    break\n",
    "        #Adwards\n",
    "        \n",
    "        #Additional Information"
   ]
  },
  {
   "cell_type": "code",
   "execution_count": 41,
   "metadata": {},
   "outputs": [
    {
     "name": "stdout",
     "output_type": "stream",
     "text": [
      "1\n",
      "1\n",
      "1\n"
     ]
    }
   ],
   "source": [
    "for e in experience:\n",
    "    print (periodfinder(e,'work_dates'))"
   ]
  },
  {
   "cell_type": "code",
   "execution_count": 8,
   "metadata": {
    "collapsed": true
   },
   "outputs": [],
   "source": [
    "    educations = soup.find_all('div',class_=re.compile(r'education-section( \\w)*'))\n",
    "    for e in educations:\n",
    "        if e.find('p', class_ = 'edu_title') is None:\n",
    "            edu_title = 'No Education Information'\n",
    "        else:\n",
    "            edu_title = e.find('p', class_ = 'edu_title').text\n",
    "        if e.find('div', class_='edu_school') is None:\n",
    "            edu_school = 'No School Information'\n",
    "        else:\n",
    "            edu_school = e.find('div',class_='edu_school').text"
   ]
  },
  {
   "cell_type": "code",
   "execution_count": 18,
   "metadata": {
    "collapsed": true
   },
   "outputs": [],
   "source": [
    "a = e.find('div',class_='edu_school')"
   ]
  },
  {
   "cell_type": "code",
   "execution_count": 19,
   "metadata": {},
   "outputs": [
    {
     "data": {
      "text/plain": [
       "'Punjab Technical University'"
      ]
     },
     "execution_count": 19,
     "metadata": {},
     "output_type": "execute_result"
    }
   ],
   "source": [
    "a.text"
   ]
  },
  {
   "cell_type": "code",
   "execution_count": 17,
   "metadata": {},
   "outputs": [
    {
     "ename": "AttributeError",
     "evalue": "'NoneType' object has no attribute 'text'",
     "output_type": "error",
     "traceback": [
      "\u001b[0;31m---------------------------------------------------------------------------\u001b[0m",
      "\u001b[0;31mAttributeError\u001b[0m                            Traceback (most recent call last)",
      "\u001b[0;32m<ipython-input-17-24afe8656d6c>\u001b[0m in \u001b[0;36m<module>\u001b[0;34m()\u001b[0m\n\u001b[0;32m----> 1\u001b[0;31m \u001b[0me\u001b[0m\u001b[0;34m.\u001b[0m\u001b[0mfind\u001b[0m\u001b[0;34m(\u001b[0m\u001b[0;34m'div'\u001b[0m\u001b[0;34m,\u001b[0m\u001b[0mclass_\u001b[0m\u001b[0;34m=\u001b[0m\u001b[0;34m'inline-block'\u001b[0m\u001b[0;34m)\u001b[0m\u001b[0;34m.\u001b[0m\u001b[0mtext\u001b[0m\u001b[0;34m\u001b[0m\u001b[0m\n\u001b[0m",
      "\u001b[0;31mAttributeError\u001b[0m: 'NoneType' object has no attribute 'text'"
     ]
    }
   ],
   "source": [
    "e.find('div',class_='inline-block')"
   ]
  },
  {
   "cell_type": "code",
   "execution_count": null,
   "metadata": {
    "collapsed": true
   },
   "outputs": [],
   "source": []
  }
 ],
 "metadata": {
  "kernelspec": {
   "display_name": "Python 3",
   "language": "python",
   "name": "python3"
  },
  "language_info": {
   "codemirror_mode": {
    "name": "ipython",
    "version": 3
   },
   "file_extension": ".py",
   "mimetype": "text/x-python",
   "name": "python",
   "nbconvert_exporter": "python",
   "pygments_lexer": "ipython3",
   "version": "3.6.1"
  }
 },
 "nbformat": 4,
 "nbformat_minor": 2
}
